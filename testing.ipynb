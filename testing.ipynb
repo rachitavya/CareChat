{
 "cells": [
  {
   "cell_type": "code",
   "execution_count": 133,
   "id": "5b17e5e4",
   "metadata": {},
   "outputs": [],
   "source": [
    "import requests\n",
    "import config"
   ]
  },
  {
   "cell_type": "code",
   "execution_count": null,
   "id": "9c9d2363",
   "metadata": {},
   "outputs": [],
   "source": []
  },
  {
   "cell_type": "code",
   "execution_count": 134,
   "id": "e70b17d0",
   "metadata": {},
   "outputs": [],
   "source": [
    "url=\"https://api.openai.com/v1/chat/completions\""
   ]
  },
  {
   "cell_type": "code",
   "execution_count": 135,
   "id": "5b92152a",
   "metadata": {},
   "outputs": [],
   "source": [
    "query='what should i do'\n",
    "condition='cholera'\n",
    "severity='mild'"
   ]
  },
  {
   "cell_type": "code",
   "execution_count": 136,
   "id": "504c6181",
   "metadata": {},
   "outputs": [],
   "source": [
    "header={\n",
    "    'Authorization':'Bearer '+secret_key,\n",
    "    'Content-Type':'application/json'\n",
    "}"
   ]
  },
  {
   "cell_type": "code",
   "execution_count": 137,
   "id": "137d0e7c",
   "metadata": {},
   "outputs": [],
   "source": [
    "payload={\n",
    "    'model':'gpt-3.5-turbo',\n",
    "    'messages':[\n",
    "        {'role':'system','content':f'You are experiencing {condition} with severity {severity}.'},\n",
    "        {'role':'user','content':query}\n",
    "]}"
   ]
  },
  {
   "cell_type": "code",
   "execution_count": 138,
   "id": "fdf33533",
   "metadata": {},
   "outputs": [],
   "source": [
    "response=requests.post(url,json=payload,headers=header)"
   ]
  },
  {
   "cell_type": "code",
   "execution_count": 139,
   "id": "68277ca9",
   "metadata": {},
   "outputs": [
    {
     "data": {
      "text/plain": [
       "{'error': {'message': 'You exceeded your current quota, please check your plan and billing details.',\n",
       "  'type': 'insufficient_quota',\n",
       "  'param': None,\n",
       "  'code': None}}"
      ]
     },
     "execution_count": 139,
     "metadata": {},
     "output_type": "execute_result"
    }
   ],
   "source": [
    "response.json()"
   ]
  },
  {
   "cell_type": "code",
   "execution_count": 140,
   "id": "0eecc335",
   "metadata": {},
   "outputs": [],
   "source": [
    "# message=response.json()['choices'][0]['message']['content']\n",
    "message=response.json()['error']['message']"
   ]
  },
  {
   "cell_type": "code",
   "execution_count": 141,
   "id": "1549837b",
   "metadata": {},
   "outputs": [],
   "source": [
    "import pyttsx3\n",
    "\n",
    "def text_to_speech(message):\n",
    "    engine = pyttsx3.init()\n",
    "    engine.setProperty('rate',125)\n",
    "    voices = engine.getProperty('voices')\n",
    "    engine.setProperty('voice', voices[1].id)\n",
    "    engine.save_to_file(message,'test.mp3')\n",
    "    engine.runAndWait()\n",
    "\n",
    "# On linux make sure that 'espeak' and 'ffmpeg' are installed"
   ]
  },
  {
   "cell_type": "code",
   "execution_count": 142,
   "id": "f9281a71",
   "metadata": {},
   "outputs": [],
   "source": [
    "text_to_speech(message)"
   ]
  },
  {
   "cell_type": "code",
   "execution_count": 143,
   "id": "96806420",
   "metadata": {},
   "outputs": [
    {
     "data": {
      "text/plain": [
       "125"
      ]
     },
     "execution_count": 143,
     "metadata": {},
     "output_type": "execute_result"
    }
   ],
   "source": [
    "rate=engine.getProperty('rate')\n",
    "rate"
   ]
  },
  {
   "cell_type": "code",
   "execution_count": 144,
   "id": "3338fdeb",
   "metadata": {},
   "outputs": [],
   "source": [
    "voices = engine.getProperty('voices')\n",
    "volume = engine.getProperty('volume')"
   ]
  },
  {
   "cell_type": "code",
   "execution_count": 145,
   "id": "34867947",
   "metadata": {},
   "outputs": [
    {
     "data": {
      "text/plain": [
       "1.0"
      ]
     },
     "execution_count": 145,
     "metadata": {},
     "output_type": "execute_result"
    }
   ],
   "source": [
    "volume"
   ]
  },
  {
   "cell_type": "code",
   "execution_count": null,
   "id": "4d753e17",
   "metadata": {
    "collapsed": true
   },
   "outputs": [],
   "source": []
  }
 ],
 "metadata": {
  "kernelspec": {
   "display_name": "Python 3 (ipykernel)",
   "language": "python",
   "name": "python3"
  },
  "language_info": {
   "codemirror_mode": {
    "name": "ipython",
    "version": 3
   },
   "file_extension": ".py",
   "mimetype": "text/x-python",
   "name": "python",
   "nbconvert_exporter": "python",
   "pygments_lexer": "ipython3",
   "version": "3.9.16"
  }
 },
 "nbformat": 4,
 "nbformat_minor": 5
}
